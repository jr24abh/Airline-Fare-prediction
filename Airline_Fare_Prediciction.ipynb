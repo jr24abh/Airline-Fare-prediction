{
  "nbformat": 4,
  "nbformat_minor": 0,
  "metadata": {
    "colab": {
      "provenance": [],
      "authorship_tag": "ABX9TyNJPr17ZUCsfnXp5D/DsjMC",
      "include_colab_link": true
    },
    "kernelspec": {
      "name": "python3",
      "display_name": "Python 3"
    },
    "language_info": {
      "name": "python"
    }
  },
  "cells": [
    {
      "cell_type": "markdown",
      "metadata": {
        "id": "view-in-github",
        "colab_type": "text"
      },
      "source": [
        "<a href=\"https://colab.research.google.com/github/jr24abh/Airline-Fare-prediction/blob/main/Airline_Fare_Prediciction.ipynb\" target=\"_parent\"><img src=\"https://colab.research.google.com/assets/colab-badge.svg\" alt=\"Open In Colab\"/></a>"
      ]
    },
    {
      "cell_type": "markdown",
      "metadata": {
        "id": "_L0jFTdG1x2D"
      },
      "source": [
        " Airfare Prediction Data Science Workflow\n",
        "Project Title: Optimizing Airline Fare Prediction Using Ensemble Machine Learning Models\n",
        "Dataset Source: Mendeley - MarketFarePredictionData.csv\n",
        "\n"
      ]
    },
    {
      "cell_type": "markdown",
      "metadata": {
        "id": "ERh1N1xV5_Kd"
      },
      "source": [
        "Step 1: Project Setup and Goals\n",
        "Objective:\n",
        "Predict airline Average_Fare using both static and simulated dynamic features such as:\n",
        "\n",
        "Days to departure\n",
        "\n",
        "Departure day of week\n",
        "\n",
        "Departure month\n",
        "...to explore their influence on fare prediction."
      ]
    },
    {
      "cell_type": "markdown",
      "metadata": {
        "id": "t87OKFoH2Kc9"
      },
      "source": [
        "Step 2: Data Upload and Sampling"
      ]
    },
    {
      "cell_type": "code",
      "source": [
        "from google.colab import drive\n",
        "drive.mount('/content/drive')\n",
        "\n",
        "!ls /content/drive/MyDrive/dataset\n",
        "\n",
        "\n",
        "import pandas as pd\n",
        "\n",
        "# If you uploaded to a subfolder: MyDrive/datasets/MarketFarePredictionData.csv\n",
        "file_path = '/content/drive/MyDrive/dataset/MarketFarePredictionData (1).csv'\n",
        "\n",
        "# Load and sample\n",
        "df = pd.read_csv(file_path)\n",
        "sample_df = df.sample(n=100000, random_state=42)"
      ],
      "metadata": {
        "colab": {
          "base_uri": "https://localhost:8080/"
        },
        "id": "w4q1c6sG--zV",
        "outputId": "fb92bc30-3985-42f5-974d-05f66f553189"
      },
      "execution_count": 3,
      "outputs": [
        {
          "output_type": "stream",
          "name": "stdout",
          "text": [
            "Mounted at /content/drive\n",
            "'MarketFarePredictionData (1).csv'\n"
          ]
        }
      ]
    },
    {
      "cell_type": "markdown",
      "metadata": {
        "id": "CadfqQ4B3CDG"
      },
      "source": [
        " Step 3: Simulate Time-Based Columns\n",
        "Simulate BookingDate and DepartureDate to create dynamic time features.\n"
      ]
    },
    {
      "cell_type": "markdown",
      "metadata": {
        "id": "DhzGarA749Aq"
      },
      "source": [
        "Simulate Time Columns:\n",
        "Let’s simulate booking and departure dates so we can later create features like days_to_departure."
      ]
    },
    {
      "cell_type": "code",
      "source": [
        "import numpy as np\n",
        "\n",
        "# Simulate booking dates from Jan 1 to Sep 30, 2023\n",
        "np.random.seed(42)\n",
        "sample_df['BookingDate'] = pd.to_datetime(np.random.choice(\n",
        "    pd.date_range(start=\"2023-01-01\", end=\"2023-09-30\"), size=sample_df.shape[0]\n",
        "))\n",
        "\n",
        "# Simulate realistic booking lead time (1–90 days to departure)\n",
        "sample_df['DaysToDeparture'] = np.random.randint(1, 91, size=sample_df.shape[0])\n",
        "sample_df['DepartureDate'] = sample_df['BookingDate'] + pd.to_timedelta(sample_df['DaysToDeparture'], unit='D')\n",
        "\n",
        "# Extract additional time features\n",
        "sample_df['DepartureMonth'] = sample_df['DepartureDate'].dt.month\n",
        "sample_df['DepartureDayOfWeek'] = sample_df['DepartureDate'].dt.dayofweek\n"
      ],
      "metadata": {
        "id": "ra11ql90Fv_r"
      },
      "execution_count": 4,
      "outputs": []
    },
    {
      "cell_type": "markdown",
      "source": [
        "Step 4: Data Cleaning and Preprocessing"
      ],
      "metadata": {
        "id": "vDQvdgTbGQkb"
      }
    },
    {
      "cell_type": "markdown",
      "source": [
        "4.1 Drop Redundant Columns"
      ],
      "metadata": {
        "id": "xVcUxsI4GWVD"
      }
    },
    {
      "cell_type": "code",
      "source": [
        "# Drop columns not useful for prediction\n",
        "drop_cols = ['BookingDate', 'DepartureDate']\n",
        "sample_df = sample_df.drop(columns=drop_cols)"
      ],
      "metadata": {
        "id": "l4hnYmrmGepU"
      },
      "execution_count": 5,
      "outputs": []
    },
    {
      "cell_type": "markdown",
      "source": [
        "4.2 Encode Categorical Features"
      ],
      "metadata": {
        "id": "ypzJ-Z8aGksM"
      }
    },
    {
      "cell_type": "code",
      "source": [
        "# Identify object columns (e.g., 'Carrier' if not numeric)\n",
        "categorical = sample_df.select_dtypes(include='object').columns\n",
        "sample_df[categorical] = sample_df[categorical].astype('category').apply(lambda x: x.cat.codes)"
      ],
      "metadata": {
        "id": "jxQeR1pZGvLM"
      },
      "execution_count": 6,
      "outputs": []
    },
    {
      "cell_type": "markdown",
      "source": [
        "Step 5: Exploratory Data Analysis (EDA)"
      ],
      "metadata": {
        "id": "551cRZT7G40z"
      }
    },
    {
      "cell_type": "markdown",
      "source": [
        "5.1 Basic Info"
      ],
      "metadata": {
        "id": "lyrAw4aPG94b"
      }
    },
    {
      "cell_type": "code",
      "source": [
        "# Preview and structure\n",
        "print(\"Shape of dataset:\", sample_df.shape)\n",
        "sample_df.head()"
      ],
      "metadata": {
        "colab": {
          "base_uri": "https://localhost:8080/",
          "height": 273
        },
        "id": "0jXz9eq4HKNU",
        "outputId": "864027c3-d073-4a42-e211-815739d3b8c4"
      },
      "execution_count": 7,
      "outputs": [
        {
          "output_type": "stream",
          "name": "stdout",
          "text": [
            "Shape of dataset: (100000, 29)\n"
          ]
        },
        {
          "output_type": "execute_result",
          "data": {
            "text/plain": [
              "         MktCoupons  OriginCityMarketID  DestCityMarketID  OriginAirportID  \\\n",
              "115482            1                 107               153              187   \n",
              "1346404           2                 159               152              160   \n",
              "1166331           1                 127               110              111   \n",
              "540157            1                  58               239               44   \n",
              "245966            1                 152               152               97   \n",
              "\n",
              "         DestAirportID  Carrier  NonStopMiles  RoundTrip  ODPairID      Pax  \\\n",
              "115482             177        6        1501.0        1.0      2603  74417.0   \n",
              "1346404            194       20        1681.0        1.0      3570    125.0   \n",
              "1166331            158        1         618.0        1.0      2935  20746.0   \n",
              "540157             244       20         549.0        1.0      1567  58431.0   \n",
              "245966             255       19        2584.0        1.0      3390  88391.0   \n",
              "\n",
              "         ...  MktMilesFlown  OriginCityMarketID_freq  DestCityMarketID_freq  \\\n",
              "115482   ...    1518.545060                 0.015908               0.033257   \n",
              "1346404  ...    1773.240506                 0.001573               0.039783   \n",
              "1166331  ...     611.263021                 0.002198               0.066292   \n",
              "540157   ...     528.097416                 0.045310               0.002445   \n",
              "245966   ...    2639.138782                 0.032488               0.039783   \n",
              "\n",
              "         OriginAirportID_freq  DestAirportID_freq  Carrier_freq  \\\n",
              "115482               0.015908            0.018680      0.116826   \n",
              "1346404              0.001573            0.008368      0.307651   \n",
              "1166331              0.002198            0.021441      0.019013   \n",
              "540157               0.015105            0.002445      0.307651   \n",
              "245966               0.014188            0.022049      0.101671   \n",
              "\n",
              "         ODPairID_freq  DaysToDeparture  DepartureMonth  DepartureDayOfWeek  \n",
              "115482        0.000582               70               6                   3  \n",
              "1346404       0.000050               58              11                   5  \n",
              "1166331       0.000243               15               5                   1  \n",
              "540157        0.000318               40               4                   5  \n",
              "245966        0.001153               10               7                   1  \n",
              "\n",
              "[5 rows x 29 columns]"
            ],
            "text/html": [
              "\n",
              "  <div id=\"df-56fcb017-008b-4fa6-a9b3-388adc1ea843\" class=\"colab-df-container\">\n",
              "    <div>\n",
              "<style scoped>\n",
              "    .dataframe tbody tr th:only-of-type {\n",
              "        vertical-align: middle;\n",
              "    }\n",
              "\n",
              "    .dataframe tbody tr th {\n",
              "        vertical-align: top;\n",
              "    }\n",
              "\n",
              "    .dataframe thead th {\n",
              "        text-align: right;\n",
              "    }\n",
              "</style>\n",
              "<table border=\"1\" class=\"dataframe\">\n",
              "  <thead>\n",
              "    <tr style=\"text-align: right;\">\n",
              "      <th></th>\n",
              "      <th>MktCoupons</th>\n",
              "      <th>OriginCityMarketID</th>\n",
              "      <th>DestCityMarketID</th>\n",
              "      <th>OriginAirportID</th>\n",
              "      <th>DestAirportID</th>\n",
              "      <th>Carrier</th>\n",
              "      <th>NonStopMiles</th>\n",
              "      <th>RoundTrip</th>\n",
              "      <th>ODPairID</th>\n",
              "      <th>Pax</th>\n",
              "      <th>...</th>\n",
              "      <th>MktMilesFlown</th>\n",
              "      <th>OriginCityMarketID_freq</th>\n",
              "      <th>DestCityMarketID_freq</th>\n",
              "      <th>OriginAirportID_freq</th>\n",
              "      <th>DestAirportID_freq</th>\n",
              "      <th>Carrier_freq</th>\n",
              "      <th>ODPairID_freq</th>\n",
              "      <th>DaysToDeparture</th>\n",
              "      <th>DepartureMonth</th>\n",
              "      <th>DepartureDayOfWeek</th>\n",
              "    </tr>\n",
              "  </thead>\n",
              "  <tbody>\n",
              "    <tr>\n",
              "      <th>115482</th>\n",
              "      <td>1</td>\n",
              "      <td>107</td>\n",
              "      <td>153</td>\n",
              "      <td>187</td>\n",
              "      <td>177</td>\n",
              "      <td>6</td>\n",
              "      <td>1501.0</td>\n",
              "      <td>1.0</td>\n",
              "      <td>2603</td>\n",
              "      <td>74417.0</td>\n",
              "      <td>...</td>\n",
              "      <td>1518.545060</td>\n",
              "      <td>0.015908</td>\n",
              "      <td>0.033257</td>\n",
              "      <td>0.015908</td>\n",
              "      <td>0.018680</td>\n",
              "      <td>0.116826</td>\n",
              "      <td>0.000582</td>\n",
              "      <td>70</td>\n",
              "      <td>6</td>\n",
              "      <td>3</td>\n",
              "    </tr>\n",
              "    <tr>\n",
              "      <th>1346404</th>\n",
              "      <td>2</td>\n",
              "      <td>159</td>\n",
              "      <td>152</td>\n",
              "      <td>160</td>\n",
              "      <td>194</td>\n",
              "      <td>20</td>\n",
              "      <td>1681.0</td>\n",
              "      <td>1.0</td>\n",
              "      <td>3570</td>\n",
              "      <td>125.0</td>\n",
              "      <td>...</td>\n",
              "      <td>1773.240506</td>\n",
              "      <td>0.001573</td>\n",
              "      <td>0.039783</td>\n",
              "      <td>0.001573</td>\n",
              "      <td>0.008368</td>\n",
              "      <td>0.307651</td>\n",
              "      <td>0.000050</td>\n",
              "      <td>58</td>\n",
              "      <td>11</td>\n",
              "      <td>5</td>\n",
              "    </tr>\n",
              "    <tr>\n",
              "      <th>1166331</th>\n",
              "      <td>1</td>\n",
              "      <td>127</td>\n",
              "      <td>110</td>\n",
              "      <td>111</td>\n",
              "      <td>158</td>\n",
              "      <td>1</td>\n",
              "      <td>618.0</td>\n",
              "      <td>1.0</td>\n",
              "      <td>2935</td>\n",
              "      <td>20746.0</td>\n",
              "      <td>...</td>\n",
              "      <td>611.263021</td>\n",
              "      <td>0.002198</td>\n",
              "      <td>0.066292</td>\n",
              "      <td>0.002198</td>\n",
              "      <td>0.021441</td>\n",
              "      <td>0.019013</td>\n",
              "      <td>0.000243</td>\n",
              "      <td>15</td>\n",
              "      <td>5</td>\n",
              "      <td>1</td>\n",
              "    </tr>\n",
              "    <tr>\n",
              "      <th>540157</th>\n",
              "      <td>1</td>\n",
              "      <td>58</td>\n",
              "      <td>239</td>\n",
              "      <td>44</td>\n",
              "      <td>244</td>\n",
              "      <td>20</td>\n",
              "      <td>549.0</td>\n",
              "      <td>1.0</td>\n",
              "      <td>1567</td>\n",
              "      <td>58431.0</td>\n",
              "      <td>...</td>\n",
              "      <td>528.097416</td>\n",
              "      <td>0.045310</td>\n",
              "      <td>0.002445</td>\n",
              "      <td>0.015105</td>\n",
              "      <td>0.002445</td>\n",
              "      <td>0.307651</td>\n",
              "      <td>0.000318</td>\n",
              "      <td>40</td>\n",
              "      <td>4</td>\n",
              "      <td>5</td>\n",
              "    </tr>\n",
              "    <tr>\n",
              "      <th>245966</th>\n",
              "      <td>1</td>\n",
              "      <td>152</td>\n",
              "      <td>152</td>\n",
              "      <td>97</td>\n",
              "      <td>255</td>\n",
              "      <td>19</td>\n",
              "      <td>2584.0</td>\n",
              "      <td>1.0</td>\n",
              "      <td>3390</td>\n",
              "      <td>88391.0</td>\n",
              "      <td>...</td>\n",
              "      <td>2639.138782</td>\n",
              "      <td>0.032488</td>\n",
              "      <td>0.039783</td>\n",
              "      <td>0.014188</td>\n",
              "      <td>0.022049</td>\n",
              "      <td>0.101671</td>\n",
              "      <td>0.001153</td>\n",
              "      <td>10</td>\n",
              "      <td>7</td>\n",
              "      <td>1</td>\n",
              "    </tr>\n",
              "  </tbody>\n",
              "</table>\n",
              "<p>5 rows × 29 columns</p>\n",
              "</div>\n",
              "    <div class=\"colab-df-buttons\">\n",
              "\n",
              "  <div class=\"colab-df-container\">\n",
              "    <button class=\"colab-df-convert\" onclick=\"convertToInteractive('df-56fcb017-008b-4fa6-a9b3-388adc1ea843')\"\n",
              "            title=\"Convert this dataframe to an interactive table.\"\n",
              "            style=\"display:none;\">\n",
              "\n",
              "  <svg xmlns=\"http://www.w3.org/2000/svg\" height=\"24px\" viewBox=\"0 -960 960 960\">\n",
              "    <path d=\"M120-120v-720h720v720H120Zm60-500h600v-160H180v160Zm220 220h160v-160H400v160Zm0 220h160v-160H400v160ZM180-400h160v-160H180v160Zm440 0h160v-160H620v160ZM180-180h160v-160H180v160Zm440 0h160v-160H620v160Z\"/>\n",
              "  </svg>\n",
              "    </button>\n",
              "\n",
              "  <style>\n",
              "    .colab-df-container {\n",
              "      display:flex;\n",
              "      gap: 12px;\n",
              "    }\n",
              "\n",
              "    .colab-df-convert {\n",
              "      background-color: #E8F0FE;\n",
              "      border: none;\n",
              "      border-radius: 50%;\n",
              "      cursor: pointer;\n",
              "      display: none;\n",
              "      fill: #1967D2;\n",
              "      height: 32px;\n",
              "      padding: 0 0 0 0;\n",
              "      width: 32px;\n",
              "    }\n",
              "\n",
              "    .colab-df-convert:hover {\n",
              "      background-color: #E2EBFA;\n",
              "      box-shadow: 0px 1px 2px rgba(60, 64, 67, 0.3), 0px 1px 3px 1px rgba(60, 64, 67, 0.15);\n",
              "      fill: #174EA6;\n",
              "    }\n",
              "\n",
              "    .colab-df-buttons div {\n",
              "      margin-bottom: 4px;\n",
              "    }\n",
              "\n",
              "    [theme=dark] .colab-df-convert {\n",
              "      background-color: #3B4455;\n",
              "      fill: #D2E3FC;\n",
              "    }\n",
              "\n",
              "    [theme=dark] .colab-df-convert:hover {\n",
              "      background-color: #434B5C;\n",
              "      box-shadow: 0px 1px 3px 1px rgba(0, 0, 0, 0.15);\n",
              "      filter: drop-shadow(0px 1px 2px rgba(0, 0, 0, 0.3));\n",
              "      fill: #FFFFFF;\n",
              "    }\n",
              "  </style>\n",
              "\n",
              "    <script>\n",
              "      const buttonEl =\n",
              "        document.querySelector('#df-56fcb017-008b-4fa6-a9b3-388adc1ea843 button.colab-df-convert');\n",
              "      buttonEl.style.display =\n",
              "        google.colab.kernel.accessAllowed ? 'block' : 'none';\n",
              "\n",
              "      async function convertToInteractive(key) {\n",
              "        const element = document.querySelector('#df-56fcb017-008b-4fa6-a9b3-388adc1ea843');\n",
              "        const dataTable =\n",
              "          await google.colab.kernel.invokeFunction('convertToInteractive',\n",
              "                                                    [key], {});\n",
              "        if (!dataTable) return;\n",
              "\n",
              "        const docLinkHtml = 'Like what you see? Visit the ' +\n",
              "          '<a target=\"_blank\" href=https://colab.research.google.com/notebooks/data_table.ipynb>data table notebook</a>'\n",
              "          + ' to learn more about interactive tables.';\n",
              "        element.innerHTML = '';\n",
              "        dataTable['output_type'] = 'display_data';\n",
              "        await google.colab.output.renderOutput(dataTable, element);\n",
              "        const docLink = document.createElement('div');\n",
              "        docLink.innerHTML = docLinkHtml;\n",
              "        element.appendChild(docLink);\n",
              "      }\n",
              "    </script>\n",
              "  </div>\n",
              "\n",
              "\n",
              "    <div id=\"df-10b58e57-6771-463d-94a2-ff04ef9b1375\">\n",
              "      <button class=\"colab-df-quickchart\" onclick=\"quickchart('df-10b58e57-6771-463d-94a2-ff04ef9b1375')\"\n",
              "                title=\"Suggest charts\"\n",
              "                style=\"display:none;\">\n",
              "\n",
              "<svg xmlns=\"http://www.w3.org/2000/svg\" height=\"24px\"viewBox=\"0 0 24 24\"\n",
              "     width=\"24px\">\n",
              "    <g>\n",
              "        <path d=\"M19 3H5c-1.1 0-2 .9-2 2v14c0 1.1.9 2 2 2h14c1.1 0 2-.9 2-2V5c0-1.1-.9-2-2-2zM9 17H7v-7h2v7zm4 0h-2V7h2v10zm4 0h-2v-4h2v4z\"/>\n",
              "    </g>\n",
              "</svg>\n",
              "      </button>\n",
              "\n",
              "<style>\n",
              "  .colab-df-quickchart {\n",
              "      --bg-color: #E8F0FE;\n",
              "      --fill-color: #1967D2;\n",
              "      --hover-bg-color: #E2EBFA;\n",
              "      --hover-fill-color: #174EA6;\n",
              "      --disabled-fill-color: #AAA;\n",
              "      --disabled-bg-color: #DDD;\n",
              "  }\n",
              "\n",
              "  [theme=dark] .colab-df-quickchart {\n",
              "      --bg-color: #3B4455;\n",
              "      --fill-color: #D2E3FC;\n",
              "      --hover-bg-color: #434B5C;\n",
              "      --hover-fill-color: #FFFFFF;\n",
              "      --disabled-bg-color: #3B4455;\n",
              "      --disabled-fill-color: #666;\n",
              "  }\n",
              "\n",
              "  .colab-df-quickchart {\n",
              "    background-color: var(--bg-color);\n",
              "    border: none;\n",
              "    border-radius: 50%;\n",
              "    cursor: pointer;\n",
              "    display: none;\n",
              "    fill: var(--fill-color);\n",
              "    height: 32px;\n",
              "    padding: 0;\n",
              "    width: 32px;\n",
              "  }\n",
              "\n",
              "  .colab-df-quickchart:hover {\n",
              "    background-color: var(--hover-bg-color);\n",
              "    box-shadow: 0 1px 2px rgba(60, 64, 67, 0.3), 0 1px 3px 1px rgba(60, 64, 67, 0.15);\n",
              "    fill: var(--button-hover-fill-color);\n",
              "  }\n",
              "\n",
              "  .colab-df-quickchart-complete:disabled,\n",
              "  .colab-df-quickchart-complete:disabled:hover {\n",
              "    background-color: var(--disabled-bg-color);\n",
              "    fill: var(--disabled-fill-color);\n",
              "    box-shadow: none;\n",
              "  }\n",
              "\n",
              "  .colab-df-spinner {\n",
              "    border: 2px solid var(--fill-color);\n",
              "    border-color: transparent;\n",
              "    border-bottom-color: var(--fill-color);\n",
              "    animation:\n",
              "      spin 1s steps(1) infinite;\n",
              "  }\n",
              "\n",
              "  @keyframes spin {\n",
              "    0% {\n",
              "      border-color: transparent;\n",
              "      border-bottom-color: var(--fill-color);\n",
              "      border-left-color: var(--fill-color);\n",
              "    }\n",
              "    20% {\n",
              "      border-color: transparent;\n",
              "      border-left-color: var(--fill-color);\n",
              "      border-top-color: var(--fill-color);\n",
              "    }\n",
              "    30% {\n",
              "      border-color: transparent;\n",
              "      border-left-color: var(--fill-color);\n",
              "      border-top-color: var(--fill-color);\n",
              "      border-right-color: var(--fill-color);\n",
              "    }\n",
              "    40% {\n",
              "      border-color: transparent;\n",
              "      border-right-color: var(--fill-color);\n",
              "      border-top-color: var(--fill-color);\n",
              "    }\n",
              "    60% {\n",
              "      border-color: transparent;\n",
              "      border-right-color: var(--fill-color);\n",
              "    }\n",
              "    80% {\n",
              "      border-color: transparent;\n",
              "      border-right-color: var(--fill-color);\n",
              "      border-bottom-color: var(--fill-color);\n",
              "    }\n",
              "    90% {\n",
              "      border-color: transparent;\n",
              "      border-bottom-color: var(--fill-color);\n",
              "    }\n",
              "  }\n",
              "</style>\n",
              "\n",
              "      <script>\n",
              "        async function quickchart(key) {\n",
              "          const quickchartButtonEl =\n",
              "            document.querySelector('#' + key + ' button');\n",
              "          quickchartButtonEl.disabled = true;  // To prevent multiple clicks.\n",
              "          quickchartButtonEl.classList.add('colab-df-spinner');\n",
              "          try {\n",
              "            const charts = await google.colab.kernel.invokeFunction(\n",
              "                'suggestCharts', [key], {});\n",
              "          } catch (error) {\n",
              "            console.error('Error during call to suggestCharts:', error);\n",
              "          }\n",
              "          quickchartButtonEl.classList.remove('colab-df-spinner');\n",
              "          quickchartButtonEl.classList.add('colab-df-quickchart-complete');\n",
              "        }\n",
              "        (() => {\n",
              "          let quickchartButtonEl =\n",
              "            document.querySelector('#df-10b58e57-6771-463d-94a2-ff04ef9b1375 button');\n",
              "          quickchartButtonEl.style.display =\n",
              "            google.colab.kernel.accessAllowed ? 'block' : 'none';\n",
              "        })();\n",
              "      </script>\n",
              "    </div>\n",
              "\n",
              "    </div>\n",
              "  </div>\n"
            ],
            "application/vnd.google.colaboratory.intrinsic+json": {
              "type": "dataframe",
              "variable_name": "sample_df"
            }
          },
          "metadata": {},
          "execution_count": 7
        }
      ]
    },
    {
      "cell_type": "markdown",
      "source": [
        "5.2 Check for Missing Values"
      ],
      "metadata": {
        "id": "vkj7sNawHcEu"
      }
    },
    {
      "cell_type": "code",
      "source": [
        "# Check for nulls\n",
        "print(\"Missing values:\\n\", sample_df.isnull().sum())"
      ],
      "metadata": {
        "colab": {
          "base_uri": "https://localhost:8080/"
        },
        "id": "CgJvOnxlHeoU",
        "outputId": "e21319fe-948d-4506-fbef-d85a3a13413d"
      },
      "execution_count": 8,
      "outputs": [
        {
          "output_type": "stream",
          "name": "stdout",
          "text": [
            "Missing values:\n",
            " MktCoupons                 0\n",
            "OriginCityMarketID         0\n",
            "DestCityMarketID           0\n",
            "OriginAirportID            0\n",
            "DestAirportID              0\n",
            "Carrier                    0\n",
            "NonStopMiles               0\n",
            "RoundTrip                  0\n",
            "ODPairID                   0\n",
            "Pax                        0\n",
            "CarrierPax                 0\n",
            "Average_Fare               0\n",
            "Market_share               0\n",
            "Market_HHI                 0\n",
            "LCC_Comp                   0\n",
            "Multi_Airport              0\n",
            "Circuity                   0\n",
            "Slot                       0\n",
            "Non_Stop                   0\n",
            "MktMilesFlown              0\n",
            "OriginCityMarketID_freq    0\n",
            "DestCityMarketID_freq      0\n",
            "OriginAirportID_freq       0\n",
            "DestAirportID_freq         0\n",
            "Carrier_freq               0\n",
            "ODPairID_freq              0\n",
            "DaysToDeparture            0\n",
            "DepartureMonth             0\n",
            "DepartureDayOfWeek         0\n",
            "dtype: int64\n"
          ]
        }
      ]
    },
    {
      "cell_type": "markdown",
      "source": [
        "5.3 Summary Statistics"
      ],
      "metadata": {
        "id": "zcevA3kgHlaF"
      }
    },
    {
      "cell_type": "code",
      "source": [
        "# Describe numerical columns\n",
        "sample_df.describe()"
      ],
      "metadata": {
        "colab": {
          "base_uri": "https://localhost:8080/",
          "height": 350
        },
        "id": "r9ujKg0xH74e",
        "outputId": "ebc2f8ae-8d31-436d-f743-eb04daebfe6e"
      },
      "execution_count": 9,
      "outputs": [
        {
          "output_type": "execute_result",
          "data": {
            "text/plain": [
              "          MktCoupons  OriginCityMarketID  DestCityMarketID  OriginAirportID  \\\n",
              "count  100000.000000       100000.000000     100000.000000    100000.000000   \n",
              "mean        1.179630          108.435240        108.605390       148.529870   \n",
              "std         0.387511           67.847674         68.231118        79.832136   \n",
              "min         1.000000            0.000000          0.000000         0.000000   \n",
              "25%         1.000000           48.000000         48.000000        73.000000   \n",
              "50%         1.000000          107.000000        108.000000       150.000000   \n",
              "75%         1.000000          158.000000        159.000000       213.000000   \n",
              "max         3.000000          265.000000        267.000000       290.000000   \n",
              "\n",
              "       DestAirportID        Carrier   NonStopMiles      RoundTrip  \\\n",
              "count  100000.000000  100000.000000  100000.000000  100000.000000   \n",
              "mean      149.435090      12.793020    1181.029300       0.807480   \n",
              "std        80.014587       7.786739     709.787069       0.394281   \n",
              "min         0.000000       0.000000     102.000000       0.000000   \n",
              "25%        74.000000       4.000000     642.000000       1.000000   \n",
              "50%       151.000000      15.000000    1011.000000       1.000000   \n",
              "75%       214.000000      20.000000    1590.000000       1.000000   \n",
              "max       291.000000      24.000000    5095.000000       1.000000   \n",
              "\n",
              "            ODPairID           Pax  ...  MktMilesFlown  \\\n",
              "count  100000.000000  1.000000e+05  ...  100000.000000   \n",
              "mean     2493.080910  1.770362e+05  ...    1211.774493   \n",
              "std      1402.808781  2.377150e+05  ...     723.226412   \n",
              "min         0.000000  1.000000e+00  ...     102.000000   \n",
              "25%      1351.000000  3.150300e+04  ...     657.883803   \n",
              "50%      2607.000000  8.654300e+04  ...    1040.060556   \n",
              "75%      3502.000000  2.318210e+05  ...    1638.297744   \n",
              "max      5353.000000  1.495396e+06  ...    5096.520737   \n",
              "\n",
              "       OriginCityMarketID_freq  DestCityMarketID_freq  OriginAirportID_freq  \\\n",
              "count            100000.000000          100000.000000         100000.000000   \n",
              "mean                  0.026541               0.026463              0.016564   \n",
              "std                   0.019320               0.019217              0.010069   \n",
              "min                   0.000006               0.000004              0.000006   \n",
              "25%                   0.010375               0.010509              0.009313   \n",
              "50%                   0.026452               0.026206              0.016368   \n",
              "75%                   0.039787               0.039783              0.023245   \n",
              "max                   0.066924               0.066292              0.036302   \n",
              "\n",
              "       DestAirportID_freq   Carrier_freq  ODPairID_freq  DaysToDeparture  \\\n",
              "count       100000.000000  100000.000000  100000.000000    100000.000000   \n",
              "mean             0.016599       0.153479       0.000773        45.459900   \n",
              "std              0.010086       0.111799       0.000906        25.969804   \n",
              "min              0.000004       0.000396       0.000002         1.000000   \n",
              "25%              0.008632       0.050863       0.000209        23.000000   \n",
              "50%              0.016721       0.116826       0.000464        45.000000   \n",
              "75%              0.023353       0.307651       0.001031        68.000000   \n",
              "max              0.035971       0.307651       0.005303        90.000000   \n",
              "\n",
              "       DepartureMonth  DepartureDayOfWeek  \n",
              "count   100000.000000       100000.000000  \n",
              "mean         6.510700            3.007760  \n",
              "std          2.733862            1.997689  \n",
              "min          1.000000            0.000000  \n",
              "25%          4.000000            1.000000  \n",
              "50%          7.000000            3.000000  \n",
              "75%          9.000000            5.000000  \n",
              "max         12.000000            6.000000  \n",
              "\n",
              "[8 rows x 29 columns]"
            ],
            "text/html": [
              "\n",
              "  <div id=\"df-27bb9c75-edf9-441d-ba4f-9595f5410f22\" class=\"colab-df-container\">\n",
              "    <div>\n",
              "<style scoped>\n",
              "    .dataframe tbody tr th:only-of-type {\n",
              "        vertical-align: middle;\n",
              "    }\n",
              "\n",
              "    .dataframe tbody tr th {\n",
              "        vertical-align: top;\n",
              "    }\n",
              "\n",
              "    .dataframe thead th {\n",
              "        text-align: right;\n",
              "    }\n",
              "</style>\n",
              "<table border=\"1\" class=\"dataframe\">\n",
              "  <thead>\n",
              "    <tr style=\"text-align: right;\">\n",
              "      <th></th>\n",
              "      <th>MktCoupons</th>\n",
              "      <th>OriginCityMarketID</th>\n",
              "      <th>DestCityMarketID</th>\n",
              "      <th>OriginAirportID</th>\n",
              "      <th>DestAirportID</th>\n",
              "      <th>Carrier</th>\n",
              "      <th>NonStopMiles</th>\n",
              "      <th>RoundTrip</th>\n",
              "      <th>ODPairID</th>\n",
              "      <th>Pax</th>\n",
              "      <th>...</th>\n",
              "      <th>MktMilesFlown</th>\n",
              "      <th>OriginCityMarketID_freq</th>\n",
              "      <th>DestCityMarketID_freq</th>\n",
              "      <th>OriginAirportID_freq</th>\n",
              "      <th>DestAirportID_freq</th>\n",
              "      <th>Carrier_freq</th>\n",
              "      <th>ODPairID_freq</th>\n",
              "      <th>DaysToDeparture</th>\n",
              "      <th>DepartureMonth</th>\n",
              "      <th>DepartureDayOfWeek</th>\n",
              "    </tr>\n",
              "  </thead>\n",
              "  <tbody>\n",
              "    <tr>\n",
              "      <th>count</th>\n",
              "      <td>100000.000000</td>\n",
              "      <td>100000.000000</td>\n",
              "      <td>100000.000000</td>\n",
              "      <td>100000.000000</td>\n",
              "      <td>100000.000000</td>\n",
              "      <td>100000.000000</td>\n",
              "      <td>100000.000000</td>\n",
              "      <td>100000.000000</td>\n",
              "      <td>100000.000000</td>\n",
              "      <td>1.000000e+05</td>\n",
              "      <td>...</td>\n",
              "      <td>100000.000000</td>\n",
              "      <td>100000.000000</td>\n",
              "      <td>100000.000000</td>\n",
              "      <td>100000.000000</td>\n",
              "      <td>100000.000000</td>\n",
              "      <td>100000.000000</td>\n",
              "      <td>100000.000000</td>\n",
              "      <td>100000.000000</td>\n",
              "      <td>100000.000000</td>\n",
              "      <td>100000.000000</td>\n",
              "    </tr>\n",
              "    <tr>\n",
              "      <th>mean</th>\n",
              "      <td>1.179630</td>\n",
              "      <td>108.435240</td>\n",
              "      <td>108.605390</td>\n",
              "      <td>148.529870</td>\n",
              "      <td>149.435090</td>\n",
              "      <td>12.793020</td>\n",
              "      <td>1181.029300</td>\n",
              "      <td>0.807480</td>\n",
              "      <td>2493.080910</td>\n",
              "      <td>1.770362e+05</td>\n",
              "      <td>...</td>\n",
              "      <td>1211.774493</td>\n",
              "      <td>0.026541</td>\n",
              "      <td>0.026463</td>\n",
              "      <td>0.016564</td>\n",
              "      <td>0.016599</td>\n",
              "      <td>0.153479</td>\n",
              "      <td>0.000773</td>\n",
              "      <td>45.459900</td>\n",
              "      <td>6.510700</td>\n",
              "      <td>3.007760</td>\n",
              "    </tr>\n",
              "    <tr>\n",
              "      <th>std</th>\n",
              "      <td>0.387511</td>\n",
              "      <td>67.847674</td>\n",
              "      <td>68.231118</td>\n",
              "      <td>79.832136</td>\n",
              "      <td>80.014587</td>\n",
              "      <td>7.786739</td>\n",
              "      <td>709.787069</td>\n",
              "      <td>0.394281</td>\n",
              "      <td>1402.808781</td>\n",
              "      <td>2.377150e+05</td>\n",
              "      <td>...</td>\n",
              "      <td>723.226412</td>\n",
              "      <td>0.019320</td>\n",
              "      <td>0.019217</td>\n",
              "      <td>0.010069</td>\n",
              "      <td>0.010086</td>\n",
              "      <td>0.111799</td>\n",
              "      <td>0.000906</td>\n",
              "      <td>25.969804</td>\n",
              "      <td>2.733862</td>\n",
              "      <td>1.997689</td>\n",
              "    </tr>\n",
              "    <tr>\n",
              "      <th>min</th>\n",
              "      <td>1.000000</td>\n",
              "      <td>0.000000</td>\n",
              "      <td>0.000000</td>\n",
              "      <td>0.000000</td>\n",
              "      <td>0.000000</td>\n",
              "      <td>0.000000</td>\n",
              "      <td>102.000000</td>\n",
              "      <td>0.000000</td>\n",
              "      <td>0.000000</td>\n",
              "      <td>1.000000e+00</td>\n",
              "      <td>...</td>\n",
              "      <td>102.000000</td>\n",
              "      <td>0.000006</td>\n",
              "      <td>0.000004</td>\n",
              "      <td>0.000006</td>\n",
              "      <td>0.000004</td>\n",
              "      <td>0.000396</td>\n",
              "      <td>0.000002</td>\n",
              "      <td>1.000000</td>\n",
              "      <td>1.000000</td>\n",
              "      <td>0.000000</td>\n",
              "    </tr>\n",
              "    <tr>\n",
              "      <th>25%</th>\n",
              "      <td>1.000000</td>\n",
              "      <td>48.000000</td>\n",
              "      <td>48.000000</td>\n",
              "      <td>73.000000</td>\n",
              "      <td>74.000000</td>\n",
              "      <td>4.000000</td>\n",
              "      <td>642.000000</td>\n",
              "      <td>1.000000</td>\n",
              "      <td>1351.000000</td>\n",
              "      <td>3.150300e+04</td>\n",
              "      <td>...</td>\n",
              "      <td>657.883803</td>\n",
              "      <td>0.010375</td>\n",
              "      <td>0.010509</td>\n",
              "      <td>0.009313</td>\n",
              "      <td>0.008632</td>\n",
              "      <td>0.050863</td>\n",
              "      <td>0.000209</td>\n",
              "      <td>23.000000</td>\n",
              "      <td>4.000000</td>\n",
              "      <td>1.000000</td>\n",
              "    </tr>\n",
              "    <tr>\n",
              "      <th>50%</th>\n",
              "      <td>1.000000</td>\n",
              "      <td>107.000000</td>\n",
              "      <td>108.000000</td>\n",
              "      <td>150.000000</td>\n",
              "      <td>151.000000</td>\n",
              "      <td>15.000000</td>\n",
              "      <td>1011.000000</td>\n",
              "      <td>1.000000</td>\n",
              "      <td>2607.000000</td>\n",
              "      <td>8.654300e+04</td>\n",
              "      <td>...</td>\n",
              "      <td>1040.060556</td>\n",
              "      <td>0.026452</td>\n",
              "      <td>0.026206</td>\n",
              "      <td>0.016368</td>\n",
              "      <td>0.016721</td>\n",
              "      <td>0.116826</td>\n",
              "      <td>0.000464</td>\n",
              "      <td>45.000000</td>\n",
              "      <td>7.000000</td>\n",
              "      <td>3.000000</td>\n",
              "    </tr>\n",
              "    <tr>\n",
              "      <th>75%</th>\n",
              "      <td>1.000000</td>\n",
              "      <td>158.000000</td>\n",
              "      <td>159.000000</td>\n",
              "      <td>213.000000</td>\n",
              "      <td>214.000000</td>\n",
              "      <td>20.000000</td>\n",
              "      <td>1590.000000</td>\n",
              "      <td>1.000000</td>\n",
              "      <td>3502.000000</td>\n",
              "      <td>2.318210e+05</td>\n",
              "      <td>...</td>\n",
              "      <td>1638.297744</td>\n",
              "      <td>0.039787</td>\n",
              "      <td>0.039783</td>\n",
              "      <td>0.023245</td>\n",
              "      <td>0.023353</td>\n",
              "      <td>0.307651</td>\n",
              "      <td>0.001031</td>\n",
              "      <td>68.000000</td>\n",
              "      <td>9.000000</td>\n",
              "      <td>5.000000</td>\n",
              "    </tr>\n",
              "    <tr>\n",
              "      <th>max</th>\n",
              "      <td>3.000000</td>\n",
              "      <td>265.000000</td>\n",
              "      <td>267.000000</td>\n",
              "      <td>290.000000</td>\n",
              "      <td>291.000000</td>\n",
              "      <td>24.000000</td>\n",
              "      <td>5095.000000</td>\n",
              "      <td>1.000000</td>\n",
              "      <td>5353.000000</td>\n",
              "      <td>1.495396e+06</td>\n",
              "      <td>...</td>\n",
              "      <td>5096.520737</td>\n",
              "      <td>0.066924</td>\n",
              "      <td>0.066292</td>\n",
              "      <td>0.036302</td>\n",
              "      <td>0.035971</td>\n",
              "      <td>0.307651</td>\n",
              "      <td>0.005303</td>\n",
              "      <td>90.000000</td>\n",
              "      <td>12.000000</td>\n",
              "      <td>6.000000</td>\n",
              "    </tr>\n",
              "  </tbody>\n",
              "</table>\n",
              "<p>8 rows × 29 columns</p>\n",
              "</div>\n",
              "    <div class=\"colab-df-buttons\">\n",
              "\n",
              "  <div class=\"colab-df-container\">\n",
              "    <button class=\"colab-df-convert\" onclick=\"convertToInteractive('df-27bb9c75-edf9-441d-ba4f-9595f5410f22')\"\n",
              "            title=\"Convert this dataframe to an interactive table.\"\n",
              "            style=\"display:none;\">\n",
              "\n",
              "  <svg xmlns=\"http://www.w3.org/2000/svg\" height=\"24px\" viewBox=\"0 -960 960 960\">\n",
              "    <path d=\"M120-120v-720h720v720H120Zm60-500h600v-160H180v160Zm220 220h160v-160H400v160Zm0 220h160v-160H400v160ZM180-400h160v-160H180v160Zm440 0h160v-160H620v160ZM180-180h160v-160H180v160Zm440 0h160v-160H620v160Z\"/>\n",
              "  </svg>\n",
              "    </button>\n",
              "\n",
              "  <style>\n",
              "    .colab-df-container {\n",
              "      display:flex;\n",
              "      gap: 12px;\n",
              "    }\n",
              "\n",
              "    .colab-df-convert {\n",
              "      background-color: #E8F0FE;\n",
              "      border: none;\n",
              "      border-radius: 50%;\n",
              "      cursor: pointer;\n",
              "      display: none;\n",
              "      fill: #1967D2;\n",
              "      height: 32px;\n",
              "      padding: 0 0 0 0;\n",
              "      width: 32px;\n",
              "    }\n",
              "\n",
              "    .colab-df-convert:hover {\n",
              "      background-color: #E2EBFA;\n",
              "      box-shadow: 0px 1px 2px rgba(60, 64, 67, 0.3), 0px 1px 3px 1px rgba(60, 64, 67, 0.15);\n",
              "      fill: #174EA6;\n",
              "    }\n",
              "\n",
              "    .colab-df-buttons div {\n",
              "      margin-bottom: 4px;\n",
              "    }\n",
              "\n",
              "    [theme=dark] .colab-df-convert {\n",
              "      background-color: #3B4455;\n",
              "      fill: #D2E3FC;\n",
              "    }\n",
              "\n",
              "    [theme=dark] .colab-df-convert:hover {\n",
              "      background-color: #434B5C;\n",
              "      box-shadow: 0px 1px 3px 1px rgba(0, 0, 0, 0.15);\n",
              "      filter: drop-shadow(0px 1px 2px rgba(0, 0, 0, 0.3));\n",
              "      fill: #FFFFFF;\n",
              "    }\n",
              "  </style>\n",
              "\n",
              "    <script>\n",
              "      const buttonEl =\n",
              "        document.querySelector('#df-27bb9c75-edf9-441d-ba4f-9595f5410f22 button.colab-df-convert');\n",
              "      buttonEl.style.display =\n",
              "        google.colab.kernel.accessAllowed ? 'block' : 'none';\n",
              "\n",
              "      async function convertToInteractive(key) {\n",
              "        const element = document.querySelector('#df-27bb9c75-edf9-441d-ba4f-9595f5410f22');\n",
              "        const dataTable =\n",
              "          await google.colab.kernel.invokeFunction('convertToInteractive',\n",
              "                                                    [key], {});\n",
              "        if (!dataTable) return;\n",
              "\n",
              "        const docLinkHtml = 'Like what you see? Visit the ' +\n",
              "          '<a target=\"_blank\" href=https://colab.research.google.com/notebooks/data_table.ipynb>data table notebook</a>'\n",
              "          + ' to learn more about interactive tables.';\n",
              "        element.innerHTML = '';\n",
              "        dataTable['output_type'] = 'display_data';\n",
              "        await google.colab.output.renderOutput(dataTable, element);\n",
              "        const docLink = document.createElement('div');\n",
              "        docLink.innerHTML = docLinkHtml;\n",
              "        element.appendChild(docLink);\n",
              "      }\n",
              "    </script>\n",
              "  </div>\n",
              "\n",
              "\n",
              "    <div id=\"df-0b2a65c6-e5e7-4530-a6bc-e3a133e0f501\">\n",
              "      <button class=\"colab-df-quickchart\" onclick=\"quickchart('df-0b2a65c6-e5e7-4530-a6bc-e3a133e0f501')\"\n",
              "                title=\"Suggest charts\"\n",
              "                style=\"display:none;\">\n",
              "\n",
              "<svg xmlns=\"http://www.w3.org/2000/svg\" height=\"24px\"viewBox=\"0 0 24 24\"\n",
              "     width=\"24px\">\n",
              "    <g>\n",
              "        <path d=\"M19 3H5c-1.1 0-2 .9-2 2v14c0 1.1.9 2 2 2h14c1.1 0 2-.9 2-2V5c0-1.1-.9-2-2-2zM9 17H7v-7h2v7zm4 0h-2V7h2v10zm4 0h-2v-4h2v4z\"/>\n",
              "    </g>\n",
              "</svg>\n",
              "      </button>\n",
              "\n",
              "<style>\n",
              "  .colab-df-quickchart {\n",
              "      --bg-color: #E8F0FE;\n",
              "      --fill-color: #1967D2;\n",
              "      --hover-bg-color: #E2EBFA;\n",
              "      --hover-fill-color: #174EA6;\n",
              "      --disabled-fill-color: #AAA;\n",
              "      --disabled-bg-color: #DDD;\n",
              "  }\n",
              "\n",
              "  [theme=dark] .colab-df-quickchart {\n",
              "      --bg-color: #3B4455;\n",
              "      --fill-color: #D2E3FC;\n",
              "      --hover-bg-color: #434B5C;\n",
              "      --hover-fill-color: #FFFFFF;\n",
              "      --disabled-bg-color: #3B4455;\n",
              "      --disabled-fill-color: #666;\n",
              "  }\n",
              "\n",
              "  .colab-df-quickchart {\n",
              "    background-color: var(--bg-color);\n",
              "    border: none;\n",
              "    border-radius: 50%;\n",
              "    cursor: pointer;\n",
              "    display: none;\n",
              "    fill: var(--fill-color);\n",
              "    height: 32px;\n",
              "    padding: 0;\n",
              "    width: 32px;\n",
              "  }\n",
              "\n",
              "  .colab-df-quickchart:hover {\n",
              "    background-color: var(--hover-bg-color);\n",
              "    box-shadow: 0 1px 2px rgba(60, 64, 67, 0.3), 0 1px 3px 1px rgba(60, 64, 67, 0.15);\n",
              "    fill: var(--button-hover-fill-color);\n",
              "  }\n",
              "\n",
              "  .colab-df-quickchart-complete:disabled,\n",
              "  .colab-df-quickchart-complete:disabled:hover {\n",
              "    background-color: var(--disabled-bg-color);\n",
              "    fill: var(--disabled-fill-color);\n",
              "    box-shadow: none;\n",
              "  }\n",
              "\n",
              "  .colab-df-spinner {\n",
              "    border: 2px solid var(--fill-color);\n",
              "    border-color: transparent;\n",
              "    border-bottom-color: var(--fill-color);\n",
              "    animation:\n",
              "      spin 1s steps(1) infinite;\n",
              "  }\n",
              "\n",
              "  @keyframes spin {\n",
              "    0% {\n",
              "      border-color: transparent;\n",
              "      border-bottom-color: var(--fill-color);\n",
              "      border-left-color: var(--fill-color);\n",
              "    }\n",
              "    20% {\n",
              "      border-color: transparent;\n",
              "      border-left-color: var(--fill-color);\n",
              "      border-top-color: var(--fill-color);\n",
              "    }\n",
              "    30% {\n",
              "      border-color: transparent;\n",
              "      border-left-color: var(--fill-color);\n",
              "      border-top-color: var(--fill-color);\n",
              "      border-right-color: var(--fill-color);\n",
              "    }\n",
              "    40% {\n",
              "      border-color: transparent;\n",
              "      border-right-color: var(--fill-color);\n",
              "      border-top-color: var(--fill-color);\n",
              "    }\n",
              "    60% {\n",
              "      border-color: transparent;\n",
              "      border-right-color: var(--fill-color);\n",
              "    }\n",
              "    80% {\n",
              "      border-color: transparent;\n",
              "      border-right-color: var(--fill-color);\n",
              "      border-bottom-color: var(--fill-color);\n",
              "    }\n",
              "    90% {\n",
              "      border-color: transparent;\n",
              "      border-bottom-color: var(--fill-color);\n",
              "    }\n",
              "  }\n",
              "</style>\n",
              "\n",
              "      <script>\n",
              "        async function quickchart(key) {\n",
              "          const quickchartButtonEl =\n",
              "            document.querySelector('#' + key + ' button');\n",
              "          quickchartButtonEl.disabled = true;  // To prevent multiple clicks.\n",
              "          quickchartButtonEl.classList.add('colab-df-spinner');\n",
              "          try {\n",
              "            const charts = await google.colab.kernel.invokeFunction(\n",
              "                'suggestCharts', [key], {});\n",
              "          } catch (error) {\n",
              "            console.error('Error during call to suggestCharts:', error);\n",
              "          }\n",
              "          quickchartButtonEl.classList.remove('colab-df-spinner');\n",
              "          quickchartButtonEl.classList.add('colab-df-quickchart-complete');\n",
              "        }\n",
              "        (() => {\n",
              "          let quickchartButtonEl =\n",
              "            document.querySelector('#df-0b2a65c6-e5e7-4530-a6bc-e3a133e0f501 button');\n",
              "          quickchartButtonEl.style.display =\n",
              "            google.colab.kernel.accessAllowed ? 'block' : 'none';\n",
              "        })();\n",
              "      </script>\n",
              "    </div>\n",
              "\n",
              "    </div>\n",
              "  </div>\n"
            ],
            "application/vnd.google.colaboratory.intrinsic+json": {
              "type": "dataframe"
            }
          },
          "metadata": {},
          "execution_count": 9
        }
      ]
    },
    {
      "cell_type": "markdown",
      "source": [
        "5.4 Data Types"
      ],
      "metadata": {
        "id": "f3CpRKQHID_1"
      }
    },
    {
      "cell_type": "code",
      "source": [
        "# Check column types\n",
        "sample_df.dtypes"
      ],
      "metadata": {
        "colab": {
          "base_uri": "https://localhost:8080/",
          "height": 994
        },
        "id": "UmAaBdCBIFjF",
        "outputId": "b8d60305-8714-4547-8247-d9dfb01e3eb0"
      },
      "execution_count": 10,
      "outputs": [
        {
          "output_type": "execute_result",
          "data": {
            "text/plain": [
              "MktCoupons                   int64\n",
              "OriginCityMarketID           int64\n",
              "DestCityMarketID             int64\n",
              "OriginAirportID              int64\n",
              "DestAirportID                int64\n",
              "Carrier                      int64\n",
              "NonStopMiles               float64\n",
              "RoundTrip                  float64\n",
              "ODPairID                     int64\n",
              "Pax                        float64\n",
              "CarrierPax                 float64\n",
              "Average_Fare               float64\n",
              "Market_share               float64\n",
              "Market_HHI                 float64\n",
              "LCC_Comp                     int64\n",
              "Multi_Airport                int64\n",
              "Circuity                   float64\n",
              "Slot                         int64\n",
              "Non_Stop                   float64\n",
              "MktMilesFlown              float64\n",
              "OriginCityMarketID_freq    float64\n",
              "DestCityMarketID_freq      float64\n",
              "OriginAirportID_freq       float64\n",
              "DestAirportID_freq         float64\n",
              "Carrier_freq               float64\n",
              "ODPairID_freq              float64\n",
              "DaysToDeparture              int64\n",
              "DepartureMonth               int32\n",
              "DepartureDayOfWeek           int32\n",
              "dtype: object"
            ],
            "text/html": [
              "<div>\n",
              "<style scoped>\n",
              "    .dataframe tbody tr th:only-of-type {\n",
              "        vertical-align: middle;\n",
              "    }\n",
              "\n",
              "    .dataframe tbody tr th {\n",
              "        vertical-align: top;\n",
              "    }\n",
              "\n",
              "    .dataframe thead th {\n",
              "        text-align: right;\n",
              "    }\n",
              "</style>\n",
              "<table border=\"1\" class=\"dataframe\">\n",
              "  <thead>\n",
              "    <tr style=\"text-align: right;\">\n",
              "      <th></th>\n",
              "      <th>0</th>\n",
              "    </tr>\n",
              "  </thead>\n",
              "  <tbody>\n",
              "    <tr>\n",
              "      <th>MktCoupons</th>\n",
              "      <td>int64</td>\n",
              "    </tr>\n",
              "    <tr>\n",
              "      <th>OriginCityMarketID</th>\n",
              "      <td>int64</td>\n",
              "    </tr>\n",
              "    <tr>\n",
              "      <th>DestCityMarketID</th>\n",
              "      <td>int64</td>\n",
              "    </tr>\n",
              "    <tr>\n",
              "      <th>OriginAirportID</th>\n",
              "      <td>int64</td>\n",
              "    </tr>\n",
              "    <tr>\n",
              "      <th>DestAirportID</th>\n",
              "      <td>int64</td>\n",
              "    </tr>\n",
              "    <tr>\n",
              "      <th>Carrier</th>\n",
              "      <td>int64</td>\n",
              "    </tr>\n",
              "    <tr>\n",
              "      <th>NonStopMiles</th>\n",
              "      <td>float64</td>\n",
              "    </tr>\n",
              "    <tr>\n",
              "      <th>RoundTrip</th>\n",
              "      <td>float64</td>\n",
              "    </tr>\n",
              "    <tr>\n",
              "      <th>ODPairID</th>\n",
              "      <td>int64</td>\n",
              "    </tr>\n",
              "    <tr>\n",
              "      <th>Pax</th>\n",
              "      <td>float64</td>\n",
              "    </tr>\n",
              "    <tr>\n",
              "      <th>CarrierPax</th>\n",
              "      <td>float64</td>\n",
              "    </tr>\n",
              "    <tr>\n",
              "      <th>Average_Fare</th>\n",
              "      <td>float64</td>\n",
              "    </tr>\n",
              "    <tr>\n",
              "      <th>Market_share</th>\n",
              "      <td>float64</td>\n",
              "    </tr>\n",
              "    <tr>\n",
              "      <th>Market_HHI</th>\n",
              "      <td>float64</td>\n",
              "    </tr>\n",
              "    <tr>\n",
              "      <th>LCC_Comp</th>\n",
              "      <td>int64</td>\n",
              "    </tr>\n",
              "    <tr>\n",
              "      <th>Multi_Airport</th>\n",
              "      <td>int64</td>\n",
              "    </tr>\n",
              "    <tr>\n",
              "      <th>Circuity</th>\n",
              "      <td>float64</td>\n",
              "    </tr>\n",
              "    <tr>\n",
              "      <th>Slot</th>\n",
              "      <td>int64</td>\n",
              "    </tr>\n",
              "    <tr>\n",
              "      <th>Non_Stop</th>\n",
              "      <td>float64</td>\n",
              "    </tr>\n",
              "    <tr>\n",
              "      <th>MktMilesFlown</th>\n",
              "      <td>float64</td>\n",
              "    </tr>\n",
              "    <tr>\n",
              "      <th>OriginCityMarketID_freq</th>\n",
              "      <td>float64</td>\n",
              "    </tr>\n",
              "    <tr>\n",
              "      <th>DestCityMarketID_freq</th>\n",
              "      <td>float64</td>\n",
              "    </tr>\n",
              "    <tr>\n",
              "      <th>OriginAirportID_freq</th>\n",
              "      <td>float64</td>\n",
              "    </tr>\n",
              "    <tr>\n",
              "      <th>DestAirportID_freq</th>\n",
              "      <td>float64</td>\n",
              "    </tr>\n",
              "    <tr>\n",
              "      <th>Carrier_freq</th>\n",
              "      <td>float64</td>\n",
              "    </tr>\n",
              "    <tr>\n",
              "      <th>ODPairID_freq</th>\n",
              "      <td>float64</td>\n",
              "    </tr>\n",
              "    <tr>\n",
              "      <th>DaysToDeparture</th>\n",
              "      <td>int64</td>\n",
              "    </tr>\n",
              "    <tr>\n",
              "      <th>DepartureMonth</th>\n",
              "      <td>int32</td>\n",
              "    </tr>\n",
              "    <tr>\n",
              "      <th>DepartureDayOfWeek</th>\n",
              "      <td>int32</td>\n",
              "    </tr>\n",
              "  </tbody>\n",
              "</table>\n",
              "</div><br><label><b>dtype:</b> object</label>"
            ]
          },
          "metadata": {},
          "execution_count": 10
        }
      ]
    },
    {
      "cell_type": "markdown",
      "source": [
        "5.5 Distribution of Fares"
      ],
      "metadata": {
        "id": "ntziabBXISUo"
      }
    },
    {
      "cell_type": "code",
      "source": [
        "import seaborn as sns\n",
        "import matplotlib.pyplot as plt\n",
        "\n",
        "plt.figure(figsize=(10, 6))\n",
        "sns.histplot(sample_df['Average_Fare'], bins=50, kde=True)\n",
        "plt.title('Distribution of Airline Fares')\n",
        "plt.xlabel('Average Fare ($)')\n",
        "plt.ylabel('Frequency')\n",
        "plt.grid(True)\n",
        "plt.show()"
      ],
      "metadata": {
        "colab": {
          "base_uri": "https://localhost:8080/",
          "height": 564
        },
        "id": "m86hcPh8ITru",
        "outputId": "a2917e9d-99f3-4102-b51d-19980a726af2"
      },
      "execution_count": 11,
      "outputs": [
        {
          "output_type": "display_data",
          "data": {
            "text/plain": [
              "<Figure size 1000x600 with 1 Axes>"
            ],
            "image/png": "[encoded data removed]"
          },
          "metadata": {}
        }
      ]
    },
    {
      "cell_type": "markdown",
      "source": [
        "5.6 Correlation Heatmap"
      ],
      "metadata": {
        "id": "IG4wBywbIgPu"
      }
    },
    {
      "cell_type": "code",
      "source": [
        "plt.figure(figsize=(15, 10))\n",
        "sns.heatmap(sample_df.corr(), cmap='coolwarm', linewidths=0.5)\n",
        "plt.title(\"Correlation Heatmap\")\n",
        "plt.show()"
      ],
      "metadata": {
        "colab": {
          "base_uri": "https://localhost:8080/",
          "height": 1000
        },
        "id": "yz2ME4TRIfn2",
        "outputId": "d0ea299a-f691-469f-c8b3-47d14675e479"
      },
      "execution_count": 12,
      "outputs": [
        {
          "output_type": "display_data",
          "data": {
            "text/plain": [
              "<Figure size 1500x1000 with 2 Axes>"
            ],
            "image/png": "[encoded data removed]"
          },
          "metadata": {}
        }
      ]
    },
    {
      "cell_type": "markdown",
      "source": [
        "5.7 Top Correlations with Fare"
      ],
      "metadata": {
        "id": "WoOb67VxIv-o"
      }
    },
    {
      "cell_type": "code",
      "source": [
        "correlations = sample_df.corr()['Average_Fare'].sort_values(ascending=False)\n",
        "print(\"Top correlated features with fare:\\n\", correlations.head(10))"
      ],
      "metadata": {
        "colab": {
          "base_uri": "https://localhost:8080/"
        },
        "id": "JXOqIStDI16g",
        "outputId": "f42dd8e2-5abb-4dd8-f8ce-7c027b201c9b"
      },
      "execution_count": 13,
      "outputs": [
        {
          "output_type": "stream",
          "name": "stdout",
          "text": [
            "Top correlated features with fare:\n",
            " Average_Fare            1.000000\n",
            "NonStopMiles            0.732764\n",
            "MktMilesFlown           0.732750\n",
            "Market_HHI              0.257681\n",
            "Market_share            0.245695\n",
            "MktCoupons              0.218094\n",
            "OriginAirportID_freq    0.068211\n",
            "DestAirportID_freq      0.060725\n",
            "DestCityMarketID        0.059382\n",
            "ODPairID_freq           0.056578\n",
            "Name: Average_Fare, dtype: float64\n"
          ]
        }
      ]
    },
    {
      "cell_type": "markdown",
      "source": [
        "Step 6 :Feature Engineering"
      ],
      "metadata": {
        "id": "qJEEwoi4JM_-"
      }
    },
    {
      "cell_type": "markdown",
      "source": [
        "New Features Created:\n",
        "FarePerMile: Derived by dividing Average_Fare by MktMilesFlown — this normalizes fare relative to distance.\n",
        "LogFare: Natural logarithm of Average_Fare to reduce skew and stabilize variance.\n",
        "Carrier Market Share Ratio: Proportion of passengers for the carrier vs. total passengers (CarrierPax / Pax).\n",
        "IsWeekendDeparture: Binary feature to indicate whether the flight departs on a weekend.\n",
        "IsLowCostCarrier: Re-encoded indicator based on presence in LCC_Comp.\n",
        "These features aim to extract economic, behavioral, and time-dependent signals for better fare prediction.\n",
        "\n",
        "We will evaluate whether these engineered features improve the model's accuracy (via R² and MSE) and feature importance rankings."
      ],
      "metadata": {
        "id": "_4hni9yJJZPe"
      }
    },
    {
      "cell_type": "code",
      "source": [
        "# Step 6: Additional Feature Engineering\n",
        "\n",
        "import numpy as np\n",
        "\n",
        "# 1. Fare per mile (normalize fare by distance)\n",
        "sample_df['FarePerMile'] = sample_df['Average_Fare'] / sample_df['MktMilesFlown']\n",
        "sample_df['FarePerMile'] = sample_df['FarePerMile'].replace([np.inf, -np.inf], np.nan)\n",
        "sample_df['FarePerMile'] = sample_df['FarePerMile'].fillna(sample_df['FarePerMile'].median())\n",
        "\n",
        "# 2. Log-transformed fare\n",
        "sample_df['LogFare'] = np.log1p(sample_df['Average_Fare'])\n",
        "\n",
        "# 3. Carrier market share\n",
        "sample_df['CarrierShare'] = sample_df['CarrierPax'] / sample_df['Pax']\n",
        "sample_df['CarrierShare'] = sample_df['CarrierShare'].replace([np.inf, -np.inf], np.nan)\n",
        "sample_df['CarrierShare'] = sample_df['CarrierShare'].fillna(sample_df['CarrierShare'].median())\n",
        "\n",
        "# 4. Weekend departure\n",
        "sample_df['IsWeekendDeparture'] = sample_df['DepartureDayOfWeek'].apply(lambda x: 1 if x in [5, 6] else 0)\n",
        "\n",
        "# 5. Low-Cost Carrier indicator\n",
        "sample_df['IsLCC'] = sample_df['LCC_Comp'].apply(lambda x: 1 if x > 0 else 0)"
      ],
      "metadata": {
        "id": "_hGBfiysJFuG"
      },
      "execution_count": 14,
      "outputs": []
    },
    {
      "cell_type": "markdown",
      "source": [
        "Step 7: Feature Selection and Target Definition"
      ],
      "metadata": {
        "id": "dzF39D65KOU0"
      }
    },
    {
      "cell_type": "code",
      "source": [
        "# Define feature set and label\n",
        "features_to_drop = ['Average_Fare', 'LogFare']  # Use LogFare as target separately if needed\n",
        "X = sample_df.drop(columns=features_to_drop)\n",
        "y = sample_df['Average_Fare']  # or y = sample_df['LogFare'] if you prefer predicting log-transformed fares\n"
      ],
      "metadata": {
        "id": "KWALg-j1KP6H"
      },
      "execution_count": 15,
      "outputs": []
    },
    {
      "cell_type": "markdown",
      "source": [
        "Step 8: Model Training (XGBoost)"
      ],
      "metadata": {
        "id": "VTcxqzxvKZim"
      }
    },
    {
      "cell_type": "code",
      "source": [
        "from sklearn.model_selection import train_test_split\n",
        "from xgboost import XGBRegressor\n",
        "from sklearn.metrics import mean_squared_error, r2_score\n",
        "\n",
        "# Split data\n",
        "X_train, X_test, y_train, y_test = train_test_split(X, y, test_size=0.2, random_state=42)\n",
        "\n",
        "# Train XGBoost model\n",
        "model = XGBRegressor(n_estimators=100, learning_rate=0.1, random_state=42)\n",
        "model.fit(X_train, y_train)\n",
        "\n",
        "# Predict and evaluate\n",
        "y_pred = model.predict(X_test)\n",
        "mse = mean_squared_error(y_test, y_pred)\n",
        "r2 = r2_score(y_test, y_pred)\n",
        "\n",
        "print(f\"✅ MSE: {mse:.2f}\")\n",
        "print(f\"✅ R² Score: {r2:.4f}\")"
      ],
      "metadata": {
        "colab": {
          "base_uri": "https://localhost:8080/"
        },
        "id": "5k7h9w_lKY5-",
        "outputId": "d2eff83e-ed0c-46f5-bf00-76029e69aee8"
      },
      "execution_count": 16,
      "outputs": [
        {
          "output_type": "stream",
          "name": "stdout",
          "text": [
            "✅ MSE: 10.69\n",
            "✅ R² Score: 0.9980\n"
          ]
        }
      ]
    },
    {
      "cell_type": "markdown",
      "source": [
        "Step 9: Visualize Feature Importance"
      ],
      "metadata": {
        "id": "_VKD_tI8MLay"
      }
    },
    {
      "cell_type": "code",
      "source": [
        "import matplotlib.pyplot as plt\n",
        "import numpy as np\n",
        "\n",
        "importances = model.feature_importances_\n",
        "features = X.columns\n",
        "indices = np.argsort(importances)[::-1]\n",
        "\n",
        "plt.figure(figsize=(12, 6))\n",
        "plt.title(\"Feature Importances (With Engineered Features)\")\n",
        "plt.bar(range(X.shape[1]), importances[indices], color='skyblue')\n",
        "plt.xticks(range(X.shape[1]), features[indices], rotation=90)\n",
        "plt.tight_layout()\n",
        "plt.show()"
      ],
      "metadata": {
        "colab": {
          "base_uri": "https://localhost:8080/",
          "height": 607
        },
        "id": "C5fVEa5RMNI5",
        "outputId": "c0077c0b-8bf0-4ba7-d527-f7f392f6bb7e"
      },
      "execution_count": 17,
      "outputs": [
        {
          "output_type": "display_data",
          "data": {
            "text/plain": [
              "<Figure size 1200x600 with 1 Axes>"
            ],
            "image/png": "[encoded data removed]"
          },
          "metadata": {}
        }
      ]
    },
    {
      "cell_type": "markdown",
      "source": [
        "Step 10: Compare More Models (CatBoost & Random Forest"
      ],
      "metadata": {
        "id": "httdwwHoMchy"
      }
    },
    {
      "cell_type": "code",
      "source": [
        "# Train a Random Forest Regressor\n",
        "\n",
        "from sklearn.ensemble import RandomForestRegressor\n",
        "\n",
        "rf_model = RandomForestRegressor(n_estimators=100, random_state=42)\n",
        "rf_model.fit(X_train, y_train)\n",
        "rf_preds = rf_model.predict(X_test)\n",
        "\n",
        "rf_mse = mean_squared_error(y_test, rf_preds)\n",
        "rf_r2 = r2_score(y_test, rf_preds)\n",
        "\n",
        "print(f\" Random Forest MSE: {rf_mse:.2f}\")\n",
        "print(f\" Random Forest R² Score: {rf_r2:.4f}\")"
      ],
      "metadata": {
        "colab": {
          "base_uri": "https://localhost:8080/"
        },
        "id": "0My7FXfDMoti",
        "outputId": "8cf68eb9-f972-431e-ccb7-a9b5533d3da9"
      },
      "execution_count": 18,
      "outputs": [
        {
          "output_type": "stream",
          "name": "stdout",
          "text": [
            " Random Forest MSE: 1.42\n",
            " Random Forest R² Score: 0.9997\n"
          ]
        }
      ]
    },
    {
      "cell_type": "code",
      "source": [
        "# Train a Random Forest Regressor\n",
        "\n",
        "from sklearn.ensemble import RandomForestRegressor\n",
        "\n",
        "rf_model = RandomForestRegressor(n_estimators=100, random_state=42)\n",
        "rf_model.fit(X_train, y_train)\n",
        "rf_preds = rf_model.predict(X_test)\n",
        "\n",
        "rf_mse = mean_squared_error(y_test, rf_preds)\n",
        "rf_r2 = r2_score(y_test, rf_preds)\n",
        "\n",
        "print(f\" Random Forest MSE: {rf_mse:.2f}\")\n",
        "print(f\" Random Forest R² Score: {rf_r2:.4f}\")"
      ],
      "metadata": {
        "colab": {
          "base_uri": "https://localhost:8080/"
        },
        "id": "EEd-hD9kNm-7",
        "outputId": "f2fea18f-81fc-4016-e6d4-e4fad08022fb"
      },
      "execution_count": 19,
      "outputs": [
        {
          "output_type": "stream",
          "name": "stdout",
          "text": [
            " Random Forest MSE: 1.42\n",
            " Random Forest R² Score: 0.9997\n"
          ]
        }
      ]
    },
    {
      "cell_type": "markdown",
      "source": [
        "Step 11: Compare All Model Results"
      ],
      "metadata": {
        "id": "t78V7cCuSC2i"
      }
    },
    {
      "cell_type": "code",
      "source": [
        "print(\" Model Comparison:\")\n",
        "print(f\"XGBoost        MSE: {mse:.2f}, R²: {r2:.4f}\")\n",
        "print(f\"Random Forest  MSE: {rf_mse:.2f}, R²: {rf_r2:.4f}\")\n",
        "print(f\"CatBoost       MSE: {cat_mse:.2f}, R²: {cat_r2:.4f}\")"
      ],
      "metadata": {
        "id": "813Tcr9tSFAp",
        "outputId": "e5564206-94c6-4528-e951-69b29a56d05c",
        "colab": {
          "base_uri": "https://localhost:8080/",
          "height": 228
        }
      },
      "execution_count": 20,
      "outputs": [
        {
          "output_type": "stream",
          "name": "stdout",
          "text": [
            " Model Comparison:\n",
            "XGBoost        MSE: 10.69, R²: 0.9980\n",
            "Random Forest  MSE: 1.42, R²: 0.9997\n"
          ]
        },
        {
          "output_type": "error",
          "ename": "NameError",
          "evalue": "name 'cat_mse' is not defined",
          "traceback": [
            "\u001b[0;31m---------------------------------------------------------------------------\u001b[0m",
            "\u001b[0;31mNameError\u001b[0m                                 Traceback (most recent call last)",
            "\u001b[0;32m<ipython-input-20-3539199025>\u001b[0m in \u001b[0;36m<cell line: 0>\u001b[0;34m()\u001b[0m\n\u001b[1;32m      2\u001b[0m \u001b[0mprint\u001b[0m\u001b[0;34m(\u001b[0m\u001b[0;34mf\"XGBoost        MSE: {mse:.2f}, R²: {r2:.4f}\"\u001b[0m\u001b[0;34m)\u001b[0m\u001b[0;34m\u001b[0m\u001b[0;34m\u001b[0m\u001b[0m\n\u001b[1;32m      3\u001b[0m \u001b[0mprint\u001b[0m\u001b[0;34m(\u001b[0m\u001b[0;34mf\"Random Forest  MSE: {rf_mse:.2f}, R²: {rf_r2:.4f}\"\u001b[0m\u001b[0;34m)\u001b[0m\u001b[0;34m\u001b[0m\u001b[0;34m\u001b[0m\u001b[0m\n\u001b[0;32m----> 4\u001b[0;31m \u001b[0mprint\u001b[0m\u001b[0;34m(\u001b[0m\u001b[0;34mf\"CatBoost       MSE: {cat_mse:.2f}, R²: {cat_r2:.4f}\"\u001b[0m\u001b[0;34m)\u001b[0m\u001b[0;34m\u001b[0m\u001b[0;34m\u001b[0m\u001b[0m\n\u001b[0m",
            "\u001b[0;31mNameError\u001b[0m: name 'cat_mse' is not defined"
          ]
        }
      ]
    },
    {
      "cell_type": "markdown",
      "source": [
        "Step 12: Hyperparameter Tuning - XGBoost Regressor."
      ],
      "metadata": {
        "id": "lAlHxFWbWCYo"
      }
    },
    {
      "cell_type": "markdown",
      "source": [
        "12.1.1 Import Libraries"
      ],
      "metadata": {
        "id": "0bbYLP82WLAQ"
      }
    },
    {
      "cell_type": "code",
      "source": [
        "from sklearn.model_selection import GridSearchCV\n",
        "from xgboost import XGBRegressor"
      ],
      "metadata": {
        "id": "jhuT4LK_WEUI"
      },
      "execution_count": 21,
      "outputs": []
    },
    {
      "cell_type": "markdown",
      "source": [
        "12.1.2 Define Parameter Grid"
      ],
      "metadata": {
        "id": "Znf-aqFLWWLf"
      }
    },
    {
      "cell_type": "code",
      "source": [
        "param_grid = {\n",
        "    'n_estimators': [100, 200],\n",
        "    'learning_rate': [0.05, 0.1],\n",
        "    'max_depth': [3, 5],\n",
        "    'subsample': [0.8, 1.0]\n",
        "}"
      ],
      "metadata": {
        "id": "XRr2qpw1WdkZ"
      },
      "execution_count": 22,
      "outputs": []
    },
    {
      "cell_type": "markdown",
      "source": [
        "12.1.3 Run Grid Search"
      ],
      "metadata": {
        "id": "9tmIq01tWrkP"
      }
    },
    {
      "cell_type": "code",
      "source": [
        "xgb = XGBRegressor(random_state=42)\n",
        "\n",
        "grid_search = GridSearchCV(\n",
        "    estimator=xgb,\n",
        "    param_grid=param_grid,\n",
        "    cv=3,  # 3-fold cross-validation\n",
        "    scoring='r2',\n",
        "    verbose=1,\n",
        "    n_jobs=-1\n",
        ")\n"
      ],
      "metadata": {
        "id": "xbtLSfeoWwjv"
      },
      "execution_count": 23,
      "outputs": []
    },
    {
      "cell_type": "markdown",
      "source": [
        "12.1.4 Best Parameters & Model Performance"
      ],
      "metadata": {
        "id": "TzHz7C-pXpkP"
      }
    },
    {
      "cell_type": "code",
      "source": [
        "print(\" Best Parameters:\", grid_search.best_params_)\n",
        "\n",
        "best_model = grid_search.best_estimator_\n",
        "\n",
        "y_pred_best = best_model.predict(X_test)\n",
        "\n",
        "from sklearn.metrics import mean_squared_error, r2_score\n",
        "\n",
        "best_mse = mean_squared_error(y_test, y_pred_best)\n",
        "best_r2 = r2_score(y_test, y_pred_best)\n",
        "\n",
        "print(f\" Tuned XGBoost MSE: {best_mse:.2f}\")\n",
        "print(f\" Tuned XGBoost R² Score: {best_r2:.4f}\")\n"
      ],
      "metadata": {
        "id": "uWn3PY4IXs2_",
        "outputId": "7f8eb815-69f8-4644-c78c-ec5824882f8c",
        "colab": {
          "base_uri": "https://localhost:8080/",
          "height": 211
        }
      },
      "execution_count": 24,
      "outputs": [
        {
          "output_type": "error",
          "ename": "AttributeError",
          "evalue": "'GridSearchCV' object has no attribute 'best_params_'",
          "traceback": [
            "\u001b[0;31m---------------------------------------------------------------------------\u001b[0m",
            "\u001b[0;31mAttributeError\u001b[0m                            Traceback (most recent call last)",
            "\u001b[0;32m<ipython-input-24-2012604962>\u001b[0m in \u001b[0;36m<cell line: 0>\u001b[0;34m()\u001b[0m\n\u001b[0;32m----> 1\u001b[0;31m \u001b[0mprint\u001b[0m\u001b[0;34m(\u001b[0m\u001b[0;34m\" Best Parameters:\"\u001b[0m\u001b[0;34m,\u001b[0m \u001b[0mgrid_search\u001b[0m\u001b[0;34m.\u001b[0m\u001b[0mbest_params_\u001b[0m\u001b[0;34m)\u001b[0m\u001b[0;34m\u001b[0m\u001b[0;34m\u001b[0m\u001b[0m\n\u001b[0m\u001b[1;32m      2\u001b[0m \u001b[0;34m\u001b[0m\u001b[0m\n\u001b[1;32m      3\u001b[0m \u001b[0mbest_model\u001b[0m \u001b[0;34m=\u001b[0m \u001b[0mgrid_search\u001b[0m\u001b[0;34m.\u001b[0m\u001b[0mbest_estimator_\u001b[0m\u001b[0;34m\u001b[0m\u001b[0;34m\u001b[0m\u001b[0m\n\u001b[1;32m      4\u001b[0m \u001b[0;34m\u001b[0m\u001b[0m\n\u001b[1;32m      5\u001b[0m \u001b[0my_pred_best\u001b[0m \u001b[0;34m=\u001b[0m \u001b[0mbest_model\u001b[0m\u001b[0;34m.\u001b[0m\u001b[0mpredict\u001b[0m\u001b[0;34m(\u001b[0m\u001b[0mX_test\u001b[0m\u001b[0;34m)\u001b[0m\u001b[0;34m\u001b[0m\u001b[0;34m\u001b[0m\u001b[0m\n",
            "\u001b[0;31mAttributeError\u001b[0m: 'GridSearchCV' object has no attribute 'best_params_'"
          ]
        }
      ]
    },
    {
      "cell_type": "markdown",
      "source": [
        "12.1.5 Save the Best Model"
      ],
      "metadata": {
        "id": "M0ZcNKsmX72X"
      }
    },
    {
      "cell_type": "code",
      "source": [
        "import joblib\n",
        "\n",
        "joblib.dump(best_model, 'best_xgboost_model.pkl')\n"
      ],
      "metadata": {
        "id": "t26JX7eFYId3",
        "outputId": "de6b8d20-e23d-42b2-82e2-e85b6a776e8f",
        "colab": {
          "base_uri": "https://localhost:8080/",
          "height": 176
        }
      },
      "execution_count": 25,
      "outputs": [
        {
          "output_type": "error",
          "ename": "NameError",
          "evalue": "name 'best_model' is not defined",
          "traceback": [
            "\u001b[0;31m---------------------------------------------------------------------------\u001b[0m",
            "\u001b[0;31mNameError\u001b[0m                                 Traceback (most recent call last)",
            "\u001b[0;32m<ipython-input-25-35268260>\u001b[0m in \u001b[0;36m<cell line: 0>\u001b[0;34m()\u001b[0m\n\u001b[1;32m      1\u001b[0m \u001b[0;32mimport\u001b[0m \u001b[0mjoblib\u001b[0m\u001b[0;34m\u001b[0m\u001b[0;34m\u001b[0m\u001b[0m\n\u001b[1;32m      2\u001b[0m \u001b[0;34m\u001b[0m\u001b[0m\n\u001b[0;32m----> 3\u001b[0;31m \u001b[0mjoblib\u001b[0m\u001b[0;34m.\u001b[0m\u001b[0mdump\u001b[0m\u001b[0;34m(\u001b[0m\u001b[0mbest_model\u001b[0m\u001b[0;34m,\u001b[0m \u001b[0;34m'best_xgboost_model.pkl'\u001b[0m\u001b[0;34m)\u001b[0m\u001b[0;34m\u001b[0m\u001b[0;34m\u001b[0m\u001b[0m\n\u001b[0m",
            "\u001b[0;31mNameError\u001b[0m: name 'best_model' is not defined"
          ]
        }
      ]
    }
  ]
}